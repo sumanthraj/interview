{
 "cells": [
  {
   "cell_type": "code",
   "execution_count": 1,
   "metadata": {},
   "outputs": [],
   "source": [
    "import re"
   ]
  },
  {
   "cell_type": "code",
   "execution_count": 11,
   "metadata": {},
   "outputs": [
    {
     "name": "stdout",
     "output_type": "stream",
     "text": [
      "Enter File Name with extension \n",
      "strings.txt\n",
      "['2 Steaks', '-2 Steaks', '-2.5 Steaks', '2 Min', '10 Chicken Wings', '343GuiltySparks', 'food', '../', '  74hug', '  /efg', 'superman', 'Batman', '100000000000000000000000000000000 gdgsud']\n"
     ]
    }
   ],
   "source": [
    "# Taking input file from user\n",
    "inputfile = input(\"Enter File Name with extension \\n\")\n",
    "f = open(inputfile,'r')\n",
    "# Storing the contents into the list \n",
    "words = []\n",
    "words = f.read().splitlines()\n",
    "print(words)\n",
    "f.close()"
   ]
  },
  {
   "cell_type": "code",
   "execution_count": 12,
   "metadata": {
    "scrolled": false
   },
   "outputs": [
    {
     "data": {
      "text/plain": [
       "['-2.5 Steaks',\n",
       " '-2 Steaks',\n",
       " '2 Min',\n",
       " '2 Steaks',\n",
       " '10 Chicken Wings',\n",
       " '  74hug',\n",
       " '343GuiltySparks',\n",
       " '100000000000000000000000000000000 gdgsud',\n",
       " '../',\n",
       " '  /efg',\n",
       " 'Batman',\n",
       " 'food',\n",
       " 'superman']"
      ]
     },
     "execution_count": 12,
     "metadata": {},
     "output_type": "execute_result"
    }
   ],
   "source": [
    "from collections import defaultdict\n",
    "\n",
    "# Creating default dict with tuple\n",
    "d = defaultdict(tuple)\n",
    "\n",
    "for i in range(len(words)):\n",
    "    # Removing all the spaces in between a string element in the list \n",
    "    word = \"\".join(words[i].split())\n",
    "    numsplit = re.split(r'(^[-+]?\\d+\\.\\d+|^[-+]?\\d+)',word) # Using regex to split the string which starts with integer or float numbers\n",
    "    \n",
    "    #Checking if the numsplit is starting with number \n",
    "    if len(numsplit) >=3:\n",
    "        # Placing the numsplit elements of 1 and 2 into a tuple as value and the actual string as key\n",
    "        d[words[i]] = ((numsplit[1], numsplit[2]))\n",
    "    \n",
    "    else:\n",
    "        # else placing the first element of tuple with 'inf' which is useful when sorting numerically\n",
    "        d[words[i]] = ((float('inf')), numsplit[0])\n",
    "\n",
    "\n",
    "# sorting the dictionary with key based on multiple values of tuple\n",
    "ans = sorted(d, key = lambda x: (float(d[x][0]), d[x][1]))\n",
    "\n",
    "ans"
   ]
  },
  {
   "cell_type": "code",
   "execution_count": 14,
   "metadata": {},
   "outputs": [],
   "source": [
    "# Writing the final sorted list into output file\n",
    "with open('your_file.txt', 'w') as out:\n",
    "    for item in ans:\n",
    "        out.write(\"%s \\n\" % item)"
   ]
  }
 ],
 "metadata": {
  "kernelspec": {
   "display_name": "Python 3",
   "language": "python",
   "name": "python3"
  },
  "language_info": {
   "codemirror_mode": {
    "name": "ipython",
    "version": 3
   },
   "file_extension": ".py",
   "mimetype": "text/x-python",
   "name": "python",
   "nbconvert_exporter": "python",
   "pygments_lexer": "ipython3",
   "version": "3.7.0"
  }
 },
 "nbformat": 4,
 "nbformat_minor": 2
}
